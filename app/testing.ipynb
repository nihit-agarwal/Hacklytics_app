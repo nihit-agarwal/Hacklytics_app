{
 "cells": [
  {
   "cell_type": "code",
   "execution_count": 1,
   "metadata": {},
   "outputs": [
    {
     "name": "stderr",
     "output_type": "stream",
     "text": [
      "/Users/nihitagarwal/Desktop/Hacklytics_app/.venv/lib/python3.11/site-packages/tqdm/auto.py:21: TqdmWarning: IProgress not found. Please update jupyter and ipywidgets. See https://ipywidgets.readthedocs.io/en/stable/user_install.html\n",
      "  from .autonotebook import tqdm as notebook_tqdm\n"
     ]
    }
   ],
   "source": [
    "from config import QDRANT_DB_API_KEY, QDRANT_URL, OPEN_AI_API_KEY\n",
    "from sentence_transformers import SentenceTransformer\n",
    "from qdrant_client import QdrantClient\n",
    "from openai import OpenAI"
   ]
  },
  {
   "cell_type": "code",
   "execution_count": 2,
   "metadata": {},
   "outputs": [],
   "source": [
    "# Connection for semantic queries\n",
    "qdrant_client = QdrantClient(\n",
    "    url=QDRANT_URL, \n",
    "    api_key=QDRANT_DB_API_KEY,\n",
    ")\n"
   ]
  },
  {
   "cell_type": "code",
   "execution_count": 3,
   "metadata": {},
   "outputs": [],
   "source": [
    "encoder = SentenceTransformer('all-MiniLm-L6-v2')"
   ]
  },
  {
   "cell_type": "code",
   "execution_count": 4,
   "metadata": {},
   "outputs": [],
   "source": [
    "# Connection to OpenAI API\n",
    "client = OpenAI(\n",
    "  organization='org-Cl2hWJbfjhnqQWMc1MTRzyqy',\n",
    "  api_key=OPEN_AI_API_KEY\n",
    ")"
   ]
  },
  {
   "cell_type": "code",
   "execution_count": 55,
   "metadata": {},
   "outputs": [],
   "source": [
    "def make_query(prompt):\n",
    "    if prompt != None:\n",
    "        hits = qdrant_client.search(\n",
    "        collection_name=\"my_hotels\",\n",
    "        query_vector=encoder.encode(prompt).tolist(),\n",
    "        limit=5\n",
    "        )\n",
    "        return hits\n",
    "    else:\n",
    "        return None"
   ]
  },
  {
   "cell_type": "code",
   "execution_count": 47,
   "metadata": {},
   "outputs": [],
   "source": [
    "def generate_response(prompt, db_response):\n",
    "    conversation = []\n",
    "    new_prompt = f'Give a JSON with fields -  \"hotel_name\" and \"reason\" (which states in 2 sentences why the hotel matches prompt) for each unique hotel  that satisfies the user prompt- \"{prompt}\" using information below .\\n\"\"\"'\n",
    "    for hotel in db_response:\n",
    "        new_prompt = new_prompt + '\\n#' + str(hotel.payload) + \" hotel id: \" + str(hotel.id)\n",
    "    new_prompt += '\"\"\"'\n",
    "    conversation.append({\"role\":\"system\", \"content\":\"You are a hotel advisor.\"})\n",
    "    conversation.append({\"role\": \"user\", \"content\":new_prompt})\n",
    "    response = client.chat.completions.create(\n",
    "    model=\"gpt-3.5-turbo\",\n",
    "    messages=conversation\n",
    "    )\n",
    "    return response"
   ]
  },
  {
   "cell_type": "code",
   "execution_count": 56,
   "metadata": {},
   "outputs": [],
   "source": [
    "prompt = 'Big swimming pool in hotel in America'\n"
   ]
  },
  {
   "cell_type": "code",
   "execution_count": 57,
   "metadata": {},
   "outputs": [
    {
     "data": {
      "text/plain": [
       "[ScoredPoint(id=3637, version=170, score=0.4759348, payload={'country': 'United States', 'hotel_description': \"A tropical oasis in New York City's world-famous Times Square, Margaritaville Resort Times Square invites you to set your watch to island time. Whether you're kicking back in your breezy room or suite, lounging poolside on the rooftop deck with a frozen concoction in hand, or taking a culinary tour through the Caribbean at our restaurants, this relaxing retreat is your passport to paradise. And when you're ready for adventure, you'll find many of the city's most famous attractions within walking distance, including the theaters of Broadway, Central Park and the iconic Empire State Building.\", 'hotel_image': 'https://media-cdn.tripadvisor.com/media/photo-s/28/38/de/a8/ground-floor-lobby.jpg', 'hotel_name': 'Margaritaville Resort Times Square', 'hotel_url': 'https://www.tripadvisor.com/Hotel_Review-g60763-d23462501-Reviews-or30-Margaritaville_Resort_Times_Square-New_York_City_New_York.html', 'locality': 'New York City', 'price_range': '$$ (Based on Average Nightly Rates for a Standard Room from our Partners)', 'rate': 5.0, 'rating_value': 5.0, 'review_count': 974, 'review_text': 'I really was enjoying the whole ambience…. the room was spacious, the beds very comfortable and the decor perfectly fit the wonderful atmosphere.  Most impressive I found the staff awesome… everyone was helpful and pleasant and attentive.  My friends and I had the best stay!', 'review_title': 'Margaritville mindset', 'street_address': '560 7th Ave', 'tripdate': ' December 2023', 'vector_description': \"A tropical oasis in New York City's world-famous Times Square, Margaritaville Resort Times Square invites you to set your watch to island time. Whether you're kicking back in your breezy room or suite, lounging poolside on the rooftop deck with a frozen concoction in hand, or taking a culinary tour through the Caribbean at our restaurants, this relaxing retreat is your passport to paradise. And when you're ready for adventure, you'll find many of the city's most famous attractions within walking distance, including the theaters of Broadway, Central Park and the iconic Empire State Building. This hotel is in 560 7th Ave, New York City, United States. Hotel has 5.0 star rating.\"}, vector=None, shard_key=None),\n",
       " ScoredPoint(id=3608, version=170, score=0.4759348, payload={'country': 'United States', 'hotel_description': \"A tropical oasis in New York City's world-famous Times Square, Margaritaville Resort Times Square invites you to set your watch to island time. Whether you're kicking back in your breezy room or suite, lounging poolside on the rooftop deck with a frozen concoction in hand, or taking a culinary tour through the Caribbean at our restaurants, this relaxing retreat is your passport to paradise. And when you're ready for adventure, you'll find many of the city's most famous attractions within walking distance, including the theaters of Broadway, Central Park and the iconic Empire State Building.\", 'hotel_image': 'https://media-cdn.tripadvisor.com/media/photo-s/28/38/de/a8/ground-floor-lobby.jpg', 'hotel_name': 'Margaritaville Resort Times Square', 'hotel_url': 'https://www.tripadvisor.com/Hotel_Review-g60763-d23462501-Reviews-Margaritaville_Resort_Times_Square-New_York_City_New_York.html', 'locality': 'New York City', 'price_range': '$$ (Based on Average Nightly Rates for a Standard Room from our Partners)', 'rate': 5.0, 'rating_value': 5.0, 'review_count': 974, 'review_text': 'Very clean hotel. Wonderful location! Upgraded our room premium upon request. Ismar and Julian were super nice and accommodating. Awesome view of the city right in the heart of it all. We really enjoyed our corner room and view of Times Square.', 'review_title': 'Perfect location and wonderful staff!', 'street_address': '560 7th Ave', 'tripdate': ' January 2024', 'vector_description': \"A tropical oasis in New York City's world-famous Times Square, Margaritaville Resort Times Square invites you to set your watch to island time. Whether you're kicking back in your breezy room or suite, lounging poolside on the rooftop deck with a frozen concoction in hand, or taking a culinary tour through the Caribbean at our restaurants, this relaxing retreat is your passport to paradise. And when you're ready for adventure, you'll find many of the city's most famous attractions within walking distance, including the theaters of Broadway, Central Park and the iconic Empire State Building. This hotel is in 560 7th Ave, New York City, United States. Hotel has 5.0 star rating.\"}, vector=None, shard_key=None),\n",
       " ScoredPoint(id=3609, version=170, score=0.4759348, payload={'country': 'United States', 'hotel_description': \"A tropical oasis in New York City's world-famous Times Square, Margaritaville Resort Times Square invites you to set your watch to island time. Whether you're kicking back in your breezy room or suite, lounging poolside on the rooftop deck with a frozen concoction in hand, or taking a culinary tour through the Caribbean at our restaurants, this relaxing retreat is your passport to paradise. And when you're ready for adventure, you'll find many of the city's most famous attractions within walking distance, including the theaters of Broadway, Central Park and the iconic Empire State Building.\", 'hotel_image': 'https://media-cdn.tripadvisor.com/media/photo-s/28/38/de/a8/ground-floor-lobby.jpg', 'hotel_name': 'Margaritaville Resort Times Square', 'hotel_url': 'https://www.tripadvisor.com/Hotel_Review-g60763-d23462501-Reviews-Margaritaville_Resort_Times_Square-New_York_City_New_York.html', 'locality': 'New York City', 'price_range': '$$ (Based on Average Nightly Rates for a Standard Room from our Partners)', 'rate': 5.0, 'rating_value': 5.0, 'review_count': 974, 'review_text': \"Everyone on the staff was absolutely fantastic. Valentina, Tiffany, Ismor, Marlop. Thank you. But truly Everyone was great.  Every hotel has added this resort fee to their charges. The margaritaville adds the real resort feel. Truly a great stay we even extended. Can't leave without saying I think the great late Jimmy Buffet would be proud.\", 'review_title': 'You are definitely NOT wasting away in Margaritaville hotel.', 'street_address': '560 7th Ave', 'tripdate': ' January 2024', 'vector_description': \"A tropical oasis in New York City's world-famous Times Square, Margaritaville Resort Times Square invites you to set your watch to island time. Whether you're kicking back in your breezy room or suite, lounging poolside on the rooftop deck with a frozen concoction in hand, or taking a culinary tour through the Caribbean at our restaurants, this relaxing retreat is your passport to paradise. And when you're ready for adventure, you'll find many of the city's most famous attractions within walking distance, including the theaters of Broadway, Central Park and the iconic Empire State Building. This hotel is in 560 7th Ave, New York City, United States. Hotel has 5.0 star rating.\"}, vector=None, shard_key=None),\n",
       " ScoredPoint(id=3617, version=170, score=0.4759348, payload={'country': 'United States', 'hotel_description': \"A tropical oasis in New York City's world-famous Times Square, Margaritaville Resort Times Square invites you to set your watch to island time. Whether you're kicking back in your breezy room or suite, lounging poolside on the rooftop deck with a frozen concoction in hand, or taking a culinary tour through the Caribbean at our restaurants, this relaxing retreat is your passport to paradise. And when you're ready for adventure, you'll find many of the city's most famous attractions within walking distance, including the theaters of Broadway, Central Park and the iconic Empire State Building.\", 'hotel_image': 'https://media-cdn.tripadvisor.com/media/photo-s/28/38/de/a8/ground-floor-lobby.jpg', 'hotel_name': 'Margaritaville Resort Times Square', 'hotel_url': 'https://www.tripadvisor.com/Hotel_Review-g60763-d23462501-Reviews-or10-Margaritaville_Resort_Times_Square-New_York_City_New_York.html', 'locality': 'New York City', 'price_range': '$$ (Based on Average Nightly Rates for a Standard Room from our Partners)', 'rate': 5.0, 'rating_value': 5.0, 'review_count': 974, 'review_text': 'I stayed in this wonderful resort in mid-November 2023 with my husband, we stayed 5 nights. The room was beautiful and very clean with a breathtaking view of the Times Square skyscrapers. Cleaning was done every day and we had a coffee machine and fridge available. The beds and the pillows were very very comfortable .  In the building there are restaurants and bars where you can have a meal and have breakfast or just few good drinks.  There is a beautiful terrace with a swimming pool and a small shop selling very nice gadgets. The staff is always polite, kind, cheerful and smiling and always ready to help us and give us useful information. The resort is located right in the center of Times Square from where you can reach all the most important destinations and most famous places', 'review_title': 'I left my heart in Margaritaville Times Square', 'street_address': '560 7th Ave', 'tripdate': ' November 2023', 'vector_description': \"A tropical oasis in New York City's world-famous Times Square, Margaritaville Resort Times Square invites you to set your watch to island time. Whether you're kicking back in your breezy room or suite, lounging poolside on the rooftop deck with a frozen concoction in hand, or taking a culinary tour through the Caribbean at our restaurants, this relaxing retreat is your passport to paradise. And when you're ready for adventure, you'll find many of the city's most famous attractions within walking distance, including the theaters of Broadway, Central Park and the iconic Empire State Building. This hotel is in 560 7th Ave, New York City, United States. Hotel has 5.0 star rating.\"}, vector=None, shard_key=None),\n",
       " ScoredPoint(id=3604, version=170, score=0.4759348, payload={'country': 'United States', 'hotel_description': \"A tropical oasis in New York City's world-famous Times Square, Margaritaville Resort Times Square invites you to set your watch to island time. Whether you're kicking back in your breezy room or suite, lounging poolside on the rooftop deck with a frozen concoction in hand, or taking a culinary tour through the Caribbean at our restaurants, this relaxing retreat is your passport to paradise. And when you're ready for adventure, you'll find many of the city's most famous attractions within walking distance, including the theaters of Broadway, Central Park and the iconic Empire State Building.\", 'hotel_image': 'https://media-cdn.tripadvisor.com/media/photo-s/28/38/de/a8/ground-floor-lobby.jpg', 'hotel_name': 'Margaritaville Resort Times Square', 'hotel_url': 'https://www.tripadvisor.com/Hotel_Review-g60763-d23462501-Reviews-Margaritaville_Resort_Times_Square-New_York_City_New_York.html', 'locality': 'New York City', 'price_range': '$$ (Based on Average Nightly Rates for a Standard Room from our Partners)', 'rate': 5.0, 'rating_value': 5.0, 'review_count': 974, 'review_text': 'We loved the resort and will absolutely stay again next time we are in NYC. The rooms are small, but it’s New York! There is not ice on every floor, just the lobby. Staff was good, we traveled with a one year old and the hotel provided a pack and play which is always helpful. 10/10 recommend', 'review_title': 'Perfect Location', 'street_address': '560 7th Ave', 'tripdate': ' January 2024', 'vector_description': \"A tropical oasis in New York City's world-famous Times Square, Margaritaville Resort Times Square invites you to set your watch to island time. Whether you're kicking back in your breezy room or suite, lounging poolside on the rooftop deck with a frozen concoction in hand, or taking a culinary tour through the Caribbean at our restaurants, this relaxing retreat is your passport to paradise. And when you're ready for adventure, you'll find many of the city's most famous attractions within walking distance, including the theaters of Broadway, Central Park and the iconic Empire State Building. This hotel is in 560 7th Ave, New York City, United States. Hotel has 5.0 star rating.\"}, vector=None, shard_key=None)]"
      ]
     },
     "execution_count": 57,
     "metadata": {},
     "output_type": "execute_result"
    }
   ],
   "source": [
    "db_response = make_query(prompt)\n",
    "db_response"
   ]
  },
  {
   "cell_type": "code",
   "execution_count": 58,
   "metadata": {},
   "outputs": [
    {
     "data": {
      "text/plain": [
       "ChatCompletion(id='chatcmpl-8qsiMusKajizuQAPunfJrRmWglBRF', choices=[Choice(finish_reason='stop', index=0, logprobs=None, message=ChatCompletionMessage(content='{\\n   \"hotels\":[\\n      {\\n         \"hotel_name\":\"Margaritaville Resort Times Square\",\\n         \"reason\":\"The hotel offers a big swimming pool on the rooftop deck where guests can relax and enjoy a frozen concoction while lounging poolside. Additionally, it is located in New York City, United States.\"\\n      }\\n   ]\\n}', role='assistant', function_call=None, tool_calls=None))], created=1707614070, model='gpt-3.5-turbo-0613', object='chat.completion', system_fingerprint=None, usage=CompletionUsage(completion_tokens=72, prompt_tokens=2860, total_tokens=2932))"
      ]
     },
     "execution_count": 58,
     "metadata": {},
     "output_type": "execute_result"
    }
   ],
   "source": [
    "response = generate_response(prompt, db_response)\n",
    "response"
   ]
  },
  {
   "cell_type": "code",
   "execution_count": 59,
   "metadata": {},
   "outputs": [
    {
     "name": "stdout",
     "output_type": "stream",
     "text": [
      "{\n",
      "   \"hotels\":[\n",
      "      {\n",
      "         \"hotel_name\":\"Margaritaville Resort Times Square\",\n",
      "         \"reason\":\"The hotel offers a big swimming pool on the rooftop deck where guests can relax and enjoy a frozen concoction while lounging poolside. Additionally, it is located in New York City, United States.\"\n",
      "      }\n",
      "   ]\n",
      "}\n"
     ]
    }
   ],
   "source": [
    "print(response.choices[0].message.content)"
   ]
  },
  {
   "cell_type": "code",
   "execution_count": 64,
   "metadata": {},
   "outputs": [
    {
     "data": {
      "text/plain": [
       "[{'hotel_name': 'Margaritaville Resort Times Square',\n",
       "  'reason': 'The hotel offers a big swimming pool on the rooftop deck where guests can relax and enjoy a frozen concoction while lounging poolside. Additionally, it is located in New York City, United States.'}]"
      ]
     },
     "execution_count": 64,
     "metadata": {},
     "output_type": "execute_result"
    }
   ],
   "source": [
    "import ast\n",
    "hotels = ast.literal_eval(response.choices[0].message.content)\n",
    "hotels['hotels']"
   ]
  }
 ],
 "metadata": {
  "kernelspec": {
   "display_name": ".venv",
   "language": "python",
   "name": "python3"
  },
  "language_info": {
   "codemirror_mode": {
    "name": "ipython",
    "version": 3
   },
   "file_extension": ".py",
   "mimetype": "text/x-python",
   "name": "python",
   "nbconvert_exporter": "python",
   "pygments_lexer": "ipython3",
   "version": "3.11.3"
  }
 },
 "nbformat": 4,
 "nbformat_minor": 2
}
